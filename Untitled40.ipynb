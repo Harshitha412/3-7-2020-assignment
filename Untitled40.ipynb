{
  "nbformat": 4,
  "nbformat_minor": 0,
  "metadata": {
    "colab": {
      "name": "Untitled40.ipynb",
      "provenance": [],
      "collapsed_sections": [],
      "authorship_tag": "ABX9TyP91TF/XleK2rTspy44Eqr5",
      "include_colab_link": true
    },
    "kernelspec": {
      "name": "python3",
      "display_name": "Python 3"
    }
  },
  "cells": [
    {
      "cell_type": "markdown",
      "metadata": {
        "id": "view-in-github",
        "colab_type": "text"
      },
      "source": [
        "<a href=\"https://colab.research.google.com/github/Harshitha412/3-7-2020-assignment/blob/master/Untitled40.ipynb\" target=\"_parent\"><img src=\"https://colab.research.google.com/assets/colab-badge.svg\" alt=\"Open In Colab\"/></a>"
      ]
    },
    {
      "cell_type": "code",
      "metadata": {
        "id": "z8SztpYsjziG",
        "colab_type": "code",
        "colab": {
          "base_uri": "https://localhost:8080/",
          "height": 50
        },
        "outputId": "1b6bea24-d8ec-4018-91a7-963d103685c0"
      },
      "source": [
        "#what is a dictionary in python?explain with an example\n",
        "#explination\n",
        "*it is a collection of key and value pairs seperated by a colon(:),enclosed in curly braces{}\n",
        "*dictionary is mutable data type in python\n",
        "#example\n",
        "mydict={'collage name':'gitam','year':1,'branch':'cse'}\n",
        "print(\"year is:\",mydict['year'])\n",
        "print(\"branch is:\",mydict['branch'])"
      ],
      "execution_count": null,
      "outputs": [
        {
          "output_type": "stream",
          "text": [
            "year is: 1\n",
            "branch is: cse\n"
          ],
          "name": "stdout"
        }
      ]
    },
    {
      "cell_type": "code",
      "metadata": {
        "id": "PLhTnymJm_EC",
        "colab_type": "code",
        "colab": {
          "base_uri": "https://localhost:8080/",
          "height": 34
        },
        "outputId": "ce7f7741-faf0-4db8-ae54-4eea33a5db25"
      },
      "source": [
        "#python program to sum all the items in a list\n",
        "def sum_list(items):\n",
        "   sum_numbers = 0\n",
        "   for x in items:\n",
        "     sum_numbers +=x\n",
        "   return sum_numbers\n",
        "print(sum_list([4,9,-3,2]))"
      ],
      "execution_count": null,
      "outputs": [
        {
          "output_type": "stream",
          "text": [
            "12\n"
          ],
          "name": "stdout"
        }
      ]
    },
    {
      "cell_type": "code",
      "metadata": {
        "id": "fdz_7bsToAhE",
        "colab_type": "code",
        "colab": {
          "base_uri": "https://localhost:8080/",
          "height": 34
        },
        "outputId": "0eb19336-1db7-45cf-ac41-ed0e70c4108c"
      },
      "source": [
        "#python program to create a list of empty dictionaries\n",
        "n = 5\n",
        "l = [{} for _ in range(n)]\n",
        "print(l)"
      ],
      "execution_count": null,
      "outputs": [
        {
          "output_type": "stream",
          "text": [
            "[{}, {}, {}, {}, {}]\n"
          ],
          "name": "stdout"
        }
      ]
    },
    {
      "cell_type": "code",
      "metadata": {
        "id": "CHHeMwAYonp4",
        "colab_type": "code",
        "colab": {
          "base_uri": "https://localhost:8080/",
          "height": 34
        },
        "outputId": "69497b61-dc3b-4093-8005-111de0cc01ac"
      },
      "source": [
        "#python program to access dictionary keys element by index\n",
        "num = {'c':63,'java':71,'ds':59,'python':98,'c++':84}\n",
        "print(list(num)[0])"
      ],
      "execution_count": null,
      "outputs": [
        {
          "output_type": "stream",
          "text": [
            "c\n"
          ],
          "name": "stdout"
        }
      ]
    },
    {
      "cell_type": "code",
      "metadata": {
        "id": "IVuQOX-Qps4g",
        "colab_type": "code",
        "colab": {
          "base_uri": "https://localhost:8080/",
          "height": 67
        },
        "outputId": "5736ab5e-c282-4f34-f8ee-2822f455c9b5"
      },
      "source": [
        "#python program to iterate over dictionaries using for loops\n",
        "d = {'red':1,'green':2,'blue':3}\n",
        "for color_key,value in d.items():\n",
        "    print(color_key,'corresponds to',d[color_key])\n",
        "    "
      ],
      "execution_count": null,
      "outputs": [
        {
          "output_type": "stream",
          "text": [
            "red corresponds to 1\n",
            "green corresponds to 2\n",
            "blue corresponds to 3\n"
          ],
          "name": "stdout"
        }
      ]
    },
    {
      "cell_type": "code",
      "metadata": {
        "id": "2FcadCgvqzrb",
        "colab_type": "code",
        "colab": {
          "base_uri": "https://localhost:8080/",
          "height": 34
        },
        "outputId": "cd43d537-4dbc-4f45-a723-1e9bd8c837e5"
      },
      "source": [
        "#python program python program to sum all the items in a dictionary\n",
        "my_dict = {'data1':98,'data2':-42,'data3':78,'data4':40}\n",
        "print(sum(my_dict.values()))"
      ],
      "execution_count": null,
      "outputs": [
        {
          "output_type": "stream",
          "text": [
            "174\n"
          ],
          "name": "stdout"
        }
      ]
    },
    {
      "cell_type": "code",
      "metadata": {
        "id": "EVeMCAcUrhd2",
        "colab_type": "code",
        "colab": {
          "base_uri": "https://localhost:8080/",
          "height": 34
        },
        "outputId": "334ef0a7-a499-4065-eaac-cf482dc34bed"
      },
      "source": [
        "#python script to concatenate two dictionaries to create a new one\n",
        "dic1={1:10,2:20}\n",
        "dic2={3:30,4:40}\n",
        "dic3={5:50,6:60}\n",
        "dic4 = {}\n",
        "for d in (dic1,dic2,dic3):dic4.update(d)\n",
        "print(dic4)"
      ],
      "execution_count": null,
      "outputs": [
        {
          "output_type": "stream",
          "text": [
            "{1: 10, 2: 20, 3: 30, 4: 40, 5: 50, 6: 60}\n"
          ],
          "name": "stdout"
        }
      ]
    },
    {
      "cell_type": "code",
      "metadata": {
        "id": "VvZhbEaCs_hZ",
        "colab_type": "code",
        "colab": {
          "base_uri": "https://localhost:8080/",
          "height": 50
        },
        "outputId": "39fbf1b8-d292-48b1-956c-c7938af14e65"
      },
      "source": [
        "#python program to create a tuple\n",
        "tuplex = 5,10,20,7,32 #creating a tuple with numbers\n",
        "print(tuplex)\n",
        "tuplex = 5, #creating a tuple of one item\n",
        "print(tuplex)"
      ],
      "execution_count": null,
      "outputs": [
        {
          "output_type": "stream",
          "text": [
            "(5, 10, 20, 7, 32)\n",
            "(5,)\n"
          ],
          "name": "stdout"
        }
      ]
    },
    {
      "cell_type": "code",
      "metadata": {
        "id": "BA_sGTK7uAzs",
        "colab_type": "code",
        "colab": {
          "base_uri": "https://localhost:8080/",
          "height": 34
        },
        "outputId": "70044ee1-dc14-4a2a-e4cb-bce50c07d6a3"
      },
      "source": [
        "#python program to create a tuple with different data types\n",
        "tuplex = (\"tuple\",True,4.3,1)\n",
        "print(tuplex)"
      ],
      "execution_count": null,
      "outputs": [
        {
          "output_type": "stream",
          "text": [
            "('tuple', True, 4.3, 1)\n"
          ],
          "name": "stdout"
        }
      ]
    },
    {
      "cell_type": "code",
      "metadata": {
        "id": "iOlHsBC6ufIX",
        "colab_type": "code",
        "colab": {
          "base_uri": "https://localhost:8080/",
          "height": 34
        },
        "outputId": "e6b5ec77-3a32-407b-dfac-b33498c4e6fd"
      },
      "source": [
        "#python program to covert a tuple to a string\n",
        "tuple = ('g','i','t','a','m','u','n','i','v','e','r','s','i','t','y')\n",
        "str = ''.join(tuple)\n",
        "print(str)"
      ],
      "execution_count": null,
      "outputs": [
        {
          "output_type": "stream",
          "text": [
            "gitamuniversity\n"
          ],
          "name": "stdout"
        }
      ]
    },
    {
      "cell_type": "code",
      "metadata": {
        "id": "0fuG9JHcvRD5",
        "colab_type": "code",
        "colab": {
          "base_uri": "https://localhost:8080/",
          "height": 84
        },
        "outputId": "59b980b4-4250-45ab-8621-830b286f337e"
      },
      "source": [
        "#python program to slice a tuple\n",
        "tuplex = (2,4,3,5,4,6,7,8,6,1)\n",
        "slice = tuplex[3:5]\n",
        "print(slice)\n",
        "slice = tuplex[:6]\n",
        "print(slice)\n",
        "slice = tuplex[:]\n",
        "print(slice)\n",
        "tuplex = (\"STUDENT DEVELOPMENT PROGRAM\")\n",
        "print(tuplex)\n"
      ],
      "execution_count": null,
      "outputs": [
        {
          "output_type": "stream",
          "text": [
            "(5, 4)\n",
            "(2, 4, 3, 5, 4, 6)\n",
            "(2, 4, 3, 5, 4, 6, 7, 8, 6, 1)\n",
            "STUDENT DEVELOPMENT PROGRAM\n"
          ],
          "name": "stdout"
        }
      ]
    },
    {
      "cell_type": "code",
      "metadata": {
        "id": "rsBwoJjxxtnY",
        "colab_type": "code",
        "colab": {
          "base_uri": "https://localhost:8080/",
          "height": 50
        },
        "outputId": "cc045774-9f72-4d59-da4e-567d40c4e420"
      },
      "source": [
        "#python program to find length of the tuple\n",
        "tuplex=(\"bengaluru\")\n",
        "print(tuplex)\n",
        "print(len(tuplex))"
      ],
      "execution_count": null,
      "outputs": [
        {
          "output_type": "stream",
          "text": [
            "bengaluru\n",
            "9\n"
          ],
          "name": "stdout"
        }
      ]
    },
    {
      "cell_type": "code",
      "metadata": {
        "id": "IxyctL1CyNdH",
        "colab_type": "code",
        "colab": {
          "base_uri": "https://localhost:8080/",
          "height": 34
        },
        "outputId": "a5609d60-77fd-412d-c9cd-a36c9df53da1"
      },
      "source": [
        "#python program to convert a tuple to a dictionary\n",
        "tuplex = ((2,\"w\"),(3,\"r\"),(4,\"g\"))\n",
        "print(dict((y,x)for x,y in tuplex))"
      ],
      "execution_count": null,
      "outputs": [
        {
          "output_type": "stream",
          "text": [
            "{'w': 2, 'r': 3, 'g': 4}\n"
          ],
          "name": "stdout"
        }
      ]
    },
    {
      "cell_type": "code",
      "metadata": {
        "id": "Xhz7FBil0Aqf",
        "colab_type": "code",
        "colab": {
          "base_uri": "https://localhost:8080/",
          "height": 50
        },
        "outputId": "10f17716-3e91-45bb-9c52-80bedb7ab339"
      },
      "source": [
        "#python program to reverse a tuple\n",
        "x = (\"gitam\")\n",
        "y = reversed(x)\n",
        "print(tuple(y))\n",
        "x = (5,10,15,20)\n",
        "y = reversed(x)\n",
        "print(tuple(y))"
      ],
      "execution_count": 3,
      "outputs": [
        {
          "output_type": "stream",
          "text": [
            "('m', 'a', 't', 'i', 'g')\n",
            "(20, 15, 10, 5)\n"
          ],
          "name": "stdout"
        }
      ]
    },
    {
      "cell_type": "code",
      "metadata": {
        "id": "NQQGB-qG2viP",
        "colab_type": "code",
        "colab": {
          "base_uri": "https://localhost:8080/",
          "height": 34
        },
        "outputId": "d4d52414-0b25-4167-8431-698043cec5ef"
      },
      "source": [
        "#python program to convert a list of tuples into a dictionary\n",
        "l = [(\"x\",1),(\"x\",2),(\"y\",1),(\"y\",2),(\"z\",1),(\"z\",2)]\n",
        "d = {}\n",
        "for a,b in l:\n",
        "    d.setdefault(a, []).append(b)\n",
        "print (d)"
      ],
      "execution_count": null,
      "outputs": [
        {
          "output_type": "stream",
          "text": [
            "{'x': [1, 2], 'y': [1, 2], 'z': [1, 2]}\n"
          ],
          "name": "stdout"
        }
      ]
    },
    {
      "cell_type": "code",
      "metadata": {
        "id": "1e_K8-a7339j",
        "colab_type": "code",
        "colab": {
          "base_uri": "https://localhost:8080/",
          "height": 50
        },
        "outputId": "671027e6-e989-41e2-fa70-1ca34afbada5"
      },
      "source": [
        "#python program to convert a list to a tuple\n",
        "listx = [5,10,7,4,15,3]\n",
        "print(listx)\n",
        "tuplex = tuple(listx)\n",
        "print(tuplex)\n"
      ],
      "execution_count": 2,
      "outputs": [
        {
          "output_type": "stream",
          "text": [
            "[5, 10, 7, 4, 15, 3]\n",
            "(5, 10, 7, 4, 15, 3)\n"
          ],
          "name": "stdout"
        }
      ]
    }
  ]
}